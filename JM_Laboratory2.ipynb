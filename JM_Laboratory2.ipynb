{
  "nbformat": 4,
  "nbformat_minor": 0,
  "metadata": {
    "colab": {
      "provenance": [],
      "authorship_tag": "ABX9TyPBolHVa9zojZF5e0etzSil",
      "include_colab_link": true
    },
    "kernelspec": {
      "name": "python3",
      "display_name": "Python 3"
    },
    "language_info": {
      "name": "python"
    }
  },
  "cells": [
    {
      "cell_type": "markdown",
      "metadata": {
        "id": "view-in-github",
        "colab_type": "text"
      },
      "source": [
        "<a href=\"https://colab.research.google.com/github/cdss8/AI-ML/blob/main/JM_Laboratory2.ipynb\" target=\"_parent\"><img src=\"https://colab.research.google.com/assets/colab-badge.svg\" alt=\"Open In Colab\"/></a>"
      ]
    },
    {
      "cell_type": "code",
      "execution_count": null,
      "metadata": {
        "id": "5AmkanUOhjAU"
      },
      "outputs": [],
      "source": [
        "#Juan Manuel Sialo\n",
        "#Laboratory 2"
      ]
    },
    {
      "cell_type": "code",
      "source": [
        "#PySpark enables to perform real-time, large-scale data processing.\n",
        "!pip install pyspark"
      ],
      "metadata": {
        "colab": {
          "base_uri": "https://localhost:8080/"
        },
        "id": "UioxQi4BwHTN",
        "outputId": "80a0b3a0-6dd7-4b5c-872b-2711b83d950d"
      },
      "execution_count": 49,
      "outputs": [
        {
          "output_type": "stream",
          "name": "stdout",
          "text": [
            "Looking in indexes: https://pypi.org/simple, https://us-python.pkg.dev/colab-wheels/public/simple/\n",
            "Requirement already satisfied: pyspark in /usr/local/lib/python3.9/dist-packages (3.4.0)\n",
            "Requirement already satisfied: py4j==0.10.9.7 in /usr/local/lib/python3.9/dist-packages (from pyspark) (0.10.9.7)\n"
          ]
        }
      ]
    },
    {
      "cell_type": "code",
      "source": [
        "from pyspark.mllib.linalg import Vectors\n",
        "from pyspark.mllib.regression import LabeledPoint\n",
        "\n",
        "from pyspark.mllib.tree import GradientBoostedTrees, GradientBoostedTreesModel\n",
        "from pyspark.mllib.tree import RandomForest, RandomForestModel\n",
        "\n",
        "from pyspark.mllib.util import MLUtils\n",
        "\n",
        "from pyspark import SparkContext\n",
        "\n",
        "from time import time"
      ],
      "metadata": {
        "id": "1L6vDzWFiOtS"
      },
      "execution_count": 101,
      "outputs": []
    },
    {
      "cell_type": "code",
      "source": [
        "from google.colab import drive\n",
        "drive.mount('/content/gdrive')\n",
        "import pandas as pd"
      ],
      "metadata": {
        "colab": {
          "base_uri": "https://localhost:8080/"
        },
        "id": "Oy-HjcRpy0hK",
        "outputId": "69474c58-f1d9-4eff-ffb5-95ab45518cca"
      },
      "execution_count": 63,
      "outputs": [
        {
          "output_type": "stream",
          "name": "stdout",
          "text": [
            "Drive already mounted at /content/gdrive; to attempt to forcibly remount, call drive.mount(\"/content/gdrive\", force_remount=True).\n"
          ]
        }
      ]
    },
    {
      "cell_type": "code",
      "source": [
        "data = pd.read_table('/content/gdrive/My Drive/AI-ML/covtype.data')\n",
        "data.head()"
      ],
      "metadata": {
        "colab": {
          "base_uri": "https://localhost:8080/",
          "height": 206
        },
        "id": "PnbAKEYuy9nB",
        "outputId": "1b3da5c6-19c2-4542-e088-ce0c7a6d5be2"
      },
      "execution_count": 64,
      "outputs": [
        {
          "output_type": "execute_result",
          "data": {
            "text/plain": [
              "  2596,51,3,258,0,510,221,232,148,6279,1,0,0,0,0,0,0,0,0,0,0,0,0,0,0,0,0,0,0,0,0,0,0,0,0,0,0,0,0,0,0,0,1,0,0,0,0,0,0,0,0,0,0,0,5\n",
              "0  2590,56,2,212,-6,390,220,235,151,6225,1,0,0,0,...                                                                            \n",
              "1  2804,139,9,268,65,3180,234,238,135,6121,1,0,0,...                                                                            \n",
              "2  2785,155,18,242,118,3090,238,238,122,6211,1,0,...                                                                            \n",
              "3  2595,45,2,153,-1,391,220,234,150,6172,1,0,0,0,...                                                                            \n",
              "4  2579,132,6,300,-15,67,230,237,140,6031,1,0,0,0...                                                                            "
            ],
            "text/html": [
              "\n",
              "  <div id=\"df-06211b13-db99-4f3f-ad00-686da9a7e47f\">\n",
              "    <div class=\"colab-df-container\">\n",
              "      <div>\n",
              "<style scoped>\n",
              "    .dataframe tbody tr th:only-of-type {\n",
              "        vertical-align: middle;\n",
              "    }\n",
              "\n",
              "    .dataframe tbody tr th {\n",
              "        vertical-align: top;\n",
              "    }\n",
              "\n",
              "    .dataframe thead th {\n",
              "        text-align: right;\n",
              "    }\n",
              "</style>\n",
              "<table border=\"1\" class=\"dataframe\">\n",
              "  <thead>\n",
              "    <tr style=\"text-align: right;\">\n",
              "      <th></th>\n",
              "      <th>2596,51,3,258,0,510,221,232,148,6279,1,0,0,0,0,0,0,0,0,0,0,0,0,0,0,0,0,0,0,0,0,0,0,0,0,0,0,0,0,0,0,0,1,0,0,0,0,0,0,0,0,0,0,0,5</th>\n",
              "    </tr>\n",
              "  </thead>\n",
              "  <tbody>\n",
              "    <tr>\n",
              "      <th>0</th>\n",
              "      <td>2590,56,2,212,-6,390,220,235,151,6225,1,0,0,0,...</td>\n",
              "    </tr>\n",
              "    <tr>\n",
              "      <th>1</th>\n",
              "      <td>2804,139,9,268,65,3180,234,238,135,6121,1,0,0,...</td>\n",
              "    </tr>\n",
              "    <tr>\n",
              "      <th>2</th>\n",
              "      <td>2785,155,18,242,118,3090,238,238,122,6211,1,0,...</td>\n",
              "    </tr>\n",
              "    <tr>\n",
              "      <th>3</th>\n",
              "      <td>2595,45,2,153,-1,391,220,234,150,6172,1,0,0,0,...</td>\n",
              "    </tr>\n",
              "    <tr>\n",
              "      <th>4</th>\n",
              "      <td>2579,132,6,300,-15,67,230,237,140,6031,1,0,0,0...</td>\n",
              "    </tr>\n",
              "  </tbody>\n",
              "</table>\n",
              "</div>\n",
              "      <button class=\"colab-df-convert\" onclick=\"convertToInteractive('df-06211b13-db99-4f3f-ad00-686da9a7e47f')\"\n",
              "              title=\"Convert this dataframe to an interactive table.\"\n",
              "              style=\"display:none;\">\n",
              "        \n",
              "  <svg xmlns=\"http://www.w3.org/2000/svg\" height=\"24px\"viewBox=\"0 0 24 24\"\n",
              "       width=\"24px\">\n",
              "    <path d=\"M0 0h24v24H0V0z\" fill=\"none\"/>\n",
              "    <path d=\"M18.56 5.44l.94 2.06.94-2.06 2.06-.94-2.06-.94-.94-2.06-.94 2.06-2.06.94zm-11 1L8.5 8.5l.94-2.06 2.06-.94-2.06-.94L8.5 2.5l-.94 2.06-2.06.94zm10 10l.94 2.06.94-2.06 2.06-.94-2.06-.94-.94-2.06-.94 2.06-2.06.94z\"/><path d=\"M17.41 7.96l-1.37-1.37c-.4-.4-.92-.59-1.43-.59-.52 0-1.04.2-1.43.59L10.3 9.45l-7.72 7.72c-.78.78-.78 2.05 0 2.83L4 21.41c.39.39.9.59 1.41.59.51 0 1.02-.2 1.41-.59l7.78-7.78 2.81-2.81c.8-.78.8-2.07 0-2.86zM5.41 20L4 18.59l7.72-7.72 1.47 1.35L5.41 20z\"/>\n",
              "  </svg>\n",
              "      </button>\n",
              "      \n",
              "  <style>\n",
              "    .colab-df-container {\n",
              "      display:flex;\n",
              "      flex-wrap:wrap;\n",
              "      gap: 12px;\n",
              "    }\n",
              "\n",
              "    .colab-df-convert {\n",
              "      background-color: #E8F0FE;\n",
              "      border: none;\n",
              "      border-radius: 50%;\n",
              "      cursor: pointer;\n",
              "      display: none;\n",
              "      fill: #1967D2;\n",
              "      height: 32px;\n",
              "      padding: 0 0 0 0;\n",
              "      width: 32px;\n",
              "    }\n",
              "\n",
              "    .colab-df-convert:hover {\n",
              "      background-color: #E2EBFA;\n",
              "      box-shadow: 0px 1px 2px rgba(60, 64, 67, 0.3), 0px 1px 3px 1px rgba(60, 64, 67, 0.15);\n",
              "      fill: #174EA6;\n",
              "    }\n",
              "\n",
              "    [theme=dark] .colab-df-convert {\n",
              "      background-color: #3B4455;\n",
              "      fill: #D2E3FC;\n",
              "    }\n",
              "\n",
              "    [theme=dark] .colab-df-convert:hover {\n",
              "      background-color: #434B5C;\n",
              "      box-shadow: 0px 1px 3px 1px rgba(0, 0, 0, 0.15);\n",
              "      filter: drop-shadow(0px 1px 2px rgba(0, 0, 0, 0.3));\n",
              "      fill: #FFFFFF;\n",
              "    }\n",
              "  </style>\n",
              "\n",
              "      <script>\n",
              "        const buttonEl =\n",
              "          document.querySelector('#df-06211b13-db99-4f3f-ad00-686da9a7e47f button.colab-df-convert');\n",
              "        buttonEl.style.display =\n",
              "          google.colab.kernel.accessAllowed ? 'block' : 'none';\n",
              "\n",
              "        async function convertToInteractive(key) {\n",
              "          const element = document.querySelector('#df-06211b13-db99-4f3f-ad00-686da9a7e47f');\n",
              "          const dataTable =\n",
              "            await google.colab.kernel.invokeFunction('convertToInteractive',\n",
              "                                                     [key], {});\n",
              "          if (!dataTable) return;\n",
              "\n",
              "          const docLinkHtml = 'Like what you see? Visit the ' +\n",
              "            '<a target=\"_blank\" href=https://colab.research.google.com/notebooks/data_table.ipynb>data table notebook</a>'\n",
              "            + ' to learn more about interactive tables.';\n",
              "          element.innerHTML = '';\n",
              "          dataTable['output_type'] = 'display_data';\n",
              "          await google.colab.output.renderOutput(dataTable, element);\n",
              "          const docLink = document.createElement('div');\n",
              "          docLink.innerHTML = docLinkHtml;\n",
              "          element.appendChild(docLink);\n",
              "        }\n",
              "      </script>\n",
              "    </div>\n",
              "  </div>\n",
              "  "
            ]
          },
          "metadata": {},
          "execution_count": 64
        }
      ]
    },
    {
      "cell_type": "code",
      "source": [
        "#Forest CoverTypes classes (Roosevelt National Forest of northern Colorado)\n",
        "CoverTypes={1.0: 'Spruce/Fir',\n",
        "            2.0: 'Lodgepole Pine',\n",
        "            3.0: 'Ponderosa Pine',\n",
        "            4.0: 'Cottonwood/Willow',\n",
        "            5.0: 'Aspen',\n",
        "            6.0: 'Douglas-fir',\n",
        "            7.0: 'Krummholz' }\n",
        "print('Tree CoverTypes in the Forest:')\n",
        "CoverTypes"
      ],
      "metadata": {
        "colab": {
          "base_uri": "https://localhost:8080/"
        },
        "id": "SnFC-0wpiT4h",
        "outputId": "0667106f-84c3-454b-8f81-c674355c82c7"
      },
      "execution_count": 65,
      "outputs": [
        {
          "output_type": "stream",
          "name": "stdout",
          "text": [
            "Tree CoverTypes in the Forest:\n"
          ]
        },
        {
          "output_type": "execute_result",
          "data": {
            "text/plain": [
              "{1.0: 'Spruce/Fir',\n",
              " 2.0: 'Lodgepole Pine',\n",
              " 3.0: 'Ponderosa Pine',\n",
              " 4.0: 'Cottonwood/Willow',\n",
              " 5.0: 'Aspen',\n",
              " 6.0: 'Douglas-fir',\n",
              " 7.0: 'Krummholz'}"
            ]
          },
          "metadata": {},
          "execution_count": 65
        }
      ]
    },
    {
      "cell_type": "code",
      "source": [
        "#Attribute information \n",
        "col_labels=\"\"\"\n",
        "Elevation, Aspect, Slope, Horizontal_Distance_To_Hydrology,\n",
        "Vertical_Distance_To_Hydrology, Horizontal_Distance_To_Roadways,\n",
        "Hillshade_9am, Hillshade_Noon, Hillshade_3pm,\n",
        "Horizontal_Distance_To_Fire_Points, Wilderness_Area (4 binarycolumns), \n",
        "Soil_Type (40 binary columns), Cover_Type\n",
        "\"\"\""
      ],
      "metadata": {
        "id": "CpbRs3bho5nM"
      },
      "execution_count": 66,
      "outputs": []
    },
    {
      "cell_type": "code",
      "source": [
        "# Breaking-up attributes that are made out of several binary features.\n",
        "col=[a.strip() for a in col_labels.split(',')]\n",
        "colDict={a:[a] for a in col}\n",
        "colDict['Soil_Type (40 binary columns)'] = ['ST_'+str(i) for i in range(40)]\n",
        "colDict['Wilderness_Area (4 binarycolumns)'] = ['WA_'+str(i) for i in range(4)]\n",
        "Columns=[]\n",
        "for item in col:\n",
        "    Columns=Columns+colDict[item]\n",
        "print(Columns)"
      ],
      "metadata": {
        "colab": {
          "base_uri": "https://localhost:8080/"
        },
        "id": "JCRV3vY2pAYk",
        "outputId": "f0b56868-9e8f-4c4d-cebe-1bf4a35ae0a7"
      },
      "execution_count": 67,
      "outputs": [
        {
          "output_type": "stream",
          "name": "stdout",
          "text": [
            "['Elevation', 'Aspect', 'Slope', 'Horizontal_Distance_To_Hydrology', 'Vertical_Distance_To_Hydrology', 'Horizontal_Distance_To_Roadways', 'Hillshade_9am', 'Hillshade_Noon', 'Hillshade_3pm', 'Horizontal_Distance_To_Fire_Points', 'WA_0', 'WA_1', 'WA_2', 'WA_3', 'ST_0', 'ST_1', 'ST_2', 'ST_3', 'ST_4', 'ST_5', 'ST_6', 'ST_7', 'ST_8', 'ST_9', 'ST_10', 'ST_11', 'ST_12', 'ST_13', 'ST_14', 'ST_15', 'ST_16', 'ST_17', 'ST_18', 'ST_19', 'ST_20', 'ST_21', 'ST_22', 'ST_23', 'ST_24', 'ST_25', 'ST_26', 'ST_27', 'ST_28', 'ST_29', 'ST_30', 'ST_31', 'ST_32', 'ST_33', 'ST_34', 'ST_35', 'ST_36', 'ST_37', 'ST_38', 'ST_39', 'Cover_Type']\n"
          ]
        }
      ]
    },
    {
      "cell_type": "markdown",
      "source": [
        "# **class pyspark.SparkContext**\n",
        "\n",
        "***datatype (master=None, appName=None, sparkHome=None, pyFiles=None, environment=None, batchSize=0, serializer=PickleSerializer(), conf=None, gateway=None, jsc=None, profiler_cls=<class 'pyspark.profiler.BasicProfiler'>)***\n",
        "\n",
        " A SparkContext ***represents the connection to a Spark cluster, and can be used to create RDD*** and broadcast variables on that cluster.\n"
      ],
      "metadata": {
        "id": "cky5tThjA9CX"
      }
    },
    {
      "cell_type": "code",
      "source": [
        "#getting the local spark created, or creatingone if the SparkContext was created already\n",
        "\n",
        "sc = SparkContext.getOrCreate() "
      ],
      "metadata": {
        "id": "r41wQ_1d69OK"
      },
      "execution_count": 92,
      "outputs": []
    },
    {
      "cell_type": "code",
      "source": [
        "#reading the file into RRD\n",
        "\n",
        "inputRDD=sc.textFile('/content/gdrive/My Drive/AI-ML/covtype.data')\n",
        "inputRDD.first()"
      ],
      "metadata": {
        "colab": {
          "base_uri": "https://localhost:8080/",
          "height": 35
        },
        "id": "KWAq8iDS8fQK",
        "outputId": "cbc91145-01c7-4b63-b732-5fa87f8c381b"
      },
      "execution_count": 93,
      "outputs": [
        {
          "output_type": "execute_result",
          "data": {
            "text/plain": [
              "'2596,51,3,258,0,510,221,232,148,6279,1,0,0,0,0,0,0,0,0,0,0,0,0,0,0,0,0,0,0,0,0,0,0,0,0,0,0,0,0,0,0,0,1,0,0,0,0,0,0,0,0,0,0,0,5'"
            ],
            "application/vnd.google.colaboratory.intrinsic+json": {
              "type": "string"
            }
          },
          "metadata": {},
          "execution_count": 93
        }
      ]
    },
    {
      "cell_type": "code",
      "source": [
        "#transforming the text RDD into an RDD of LabeledPoints\n",
        "newData=inputRDD.map(lambda line: [float(x.strip()) for x in line.split(',')])\\\n",
        "     .map(lambda V:LabeledPoint(V[-1],V[:-1]))\n",
        "newData.first()"
      ],
      "metadata": {
        "colab": {
          "base_uri": "https://localhost:8080/"
        },
        "id": "lGdgzxUB97RI",
        "outputId": "1259e813-23cc-4ac7-9fed-cab27f2261f5"
      },
      "execution_count": 94,
      "outputs": [
        {
          "output_type": "execute_result",
          "data": {
            "text/plain": [
              "LabeledPoint(5.0, [2596.0,51.0,3.0,258.0,0.0,510.0,221.0,232.0,148.0,6279.0,1.0,0.0,0.0,0.0,0.0,0.0,0.0,0.0,0.0,0.0,0.0,0.0,0.0,0.0,0.0,0.0,0.0,0.0,0.0,0.0,0.0,0.0,0.0,0.0,0.0,0.0,0.0,0.0,0.0,0.0,0.0,0.0,1.0,0.0,0.0,0.0,0.0,0.0,0.0,0.0,0.0,0.0,0.0,0.0])"
            ]
          },
          "metadata": {},
          "execution_count": 94
        }
      ]
    },
    {
      "cell_type": "code",
      "source": [
        "#counting the number of examples of each type\n",
        "total=newData.cache().count()\n",
        "print(('data_size: numbers of trees in the area:=',total))\n",
        "counts=newData.map(lambda lp:(lp.label,1)).reduceByKey(lambda x,y:x+y).collect()\n",
        "\n",
        "counts.sort(key=lambda x:x[1],reverse=True)\n",
        "print('              tree  (type):   percent (%)')\n",
        "print('---------------------------------------------------------')\n",
        "print(('\\n'.join(['%20s (%3.1f):\\t%4.2f'%(CoverTypes[a[0]],a[0],100.0*a[1]/float(total)) for a in counts])))"
      ],
      "metadata": {
        "colab": {
          "base_uri": "https://localhost:8080/"
        },
        "id": "eyyDpbUm_Ff_",
        "outputId": "d1fa6866-1d15-48b0-8eb1-3b17c6b9d33b"
      },
      "execution_count": 95,
      "outputs": [
        {
          "output_type": "stream",
          "name": "stdout",
          "text": [
            "('data_size: numbers of trees in the area:=', 581012)\n",
            "              tree  (type):   percent (%)\n",
            "---------------------------------------------------------\n",
            "      Lodgepole Pine (2.0):\t48.76\n",
            "          Spruce/Fir (1.0):\t36.46\n",
            "      Ponderosa Pine (3.0):\t6.15\n",
            "           Krummholz (7.0):\t3.53\n",
            "         Douglas-fir (6.0):\t2.99\n",
            "               Aspen (5.0):\t1.63\n",
            "   Cottonwood/Willow (4.0):\t0.47\n"
          ]
        }
      ]
    },
    {
      "cell_type": "markdown",
      "source": [
        "# **Making the problem binary**\n",
        "The implementation of BoostedGradientTrees in MLLib supports only binary problems. Our CovType data has 7 classes. To make the problem binary we will choose one of the trees.  Lodgepole Pine: type=2.0. We therefor transform the dataset to a new dataset where the type is 1.0 is the class is Lodgepole Pine and is 0.0 otherwise."
      ],
      "metadata": {
        "id": "izEPkPGxCBwl"
      }
    },
    {
      "cell_type": "code",
      "source": [
        "Type=2.0\n",
        "newData=inputRDD.map(lambda line: [float(x) for x in line.split(',')])\\\n",
        "    .map(lambda V:LabeledPoint(1.0*(V[-1]==Type),V[:-1]))"
      ],
      "metadata": {
        "id": "subdC5uWCAVO"
      },
      "execution_count": 97,
      "outputs": []
    },
    {
      "cell_type": "code",
      "source": [
        "#reducing the data top se better the effect of the study\n",
        "\n",
        "visualitationData=newData.sample(False,1).cache()\n",
        "(trainingData,testData)=visualitationData.randomSplit([0.7,0.3])\n",
        "\n",
        "print('Sizes: visualitationData=%d, trainingData=%d, testData=%d'%(visualitationData.count(),trainingData.cache().count(),testData.cache().count()))"
      ],
      "metadata": {
        "colab": {
          "base_uri": "https://localhost:8080/"
        },
        "id": "ftrLzj95DJ5E",
        "outputId": "310d3164-7663-46a8-ef7a-7a2ca97c9765"
      },
      "execution_count": 99,
      "outputs": [
        {
          "output_type": "stream",
          "name": "stdout",
          "text": [
            "Sizes: visualitationData=581012, trainingData=406835, testData=174177\n"
          ]
        }
      ]
    },
    {
      "cell_type": "code",
      "source": [
        "counts=testData.map(lambda lp:(lp.label,1)).reduceByKey(lambda x,y:x+y).collect()\n",
        "counts.sort(key=lambda x:x[1],reverse=True)\n",
        "counts"
      ],
      "metadata": {
        "colab": {
          "base_uri": "https://localhost:8080/"
        },
        "id": "r9BT_gShECV-",
        "outputId": "9f59f7c8-a565-4a5e-f403-c14945ef74b1"
      },
      "execution_count": 100,
      "outputs": [
        {
          "output_type": "execute_result",
          "data": {
            "text/plain": [
              "[(0.0, 89176), (1.0, 85001)]"
            ]
          },
          "metadata": {},
          "execution_count": 100
        }
      ]
    },
    {
      "cell_type": "code",
      "source": [
        "errors={}\n",
        "\n",
        "for depth in [1,3,6,10,15]:\n",
        "\n",
        "    start=time()\n",
        "    model = RandomForest.trainClassifier(trainingData, numClasses=2, categoricalFeaturesInfo={},\n",
        "                                     numTrees=100, featureSubsetStrategy=\"auto\",\n",
        "                                     impurity='gini', maxDepth=depth, maxBins=32)\n",
        "    \n",
        "    #print model.toDebugString()\n",
        "    errors[depth]={}\n",
        "    dataSets={'train':trainingData,'test':testData}\n",
        "    for name in list(dataSets.keys()):  # Calculate errors on train and test sets\n",
        "        data=dataSets[name]\n",
        "        Predicted=model.predict(data.map(lambda x: x.features))\n",
        "        LabelsAndPredictions=data.map(lambda lp: lp.label).zip(Predicted)\n",
        "        Err = LabelsAndPredictions.filter(lambda v_p:v_p[0] != v_p[1]).count()/float(data.count())\n",
        "        errors[depth][name]=Err\n",
        "    print(depth,errors[depth],int(time()-start),'seconds')\n",
        "print(errors)"
      ],
      "metadata": {
        "colab": {
          "base_uri": "https://localhost:8080/"
        },
        "id": "gxS4P_J5EMxD",
        "outputId": "929f9740-0731-4181-fe70-d3573b30a490"
      },
      "execution_count": 102,
      "outputs": [
        {
          "output_type": "stream",
          "name": "stdout",
          "text": [
            "1 {'train': 0.355234923248983, 'test': 0.35710799933401083} 91 seconds\n",
            "3 {'train': 0.269200044243981, 'test': 0.2705236627109205} 102 seconds\n",
            "6 {'train': 0.25252743741320194, 'test': 0.25340888865923744} 142 seconds\n",
            "10 {'train': 0.2222842184177861, 'test': 0.22343363360259966} 228 seconds\n",
            "15 {'train': 0.17999434660243097, 'test': 0.18335945618537464} 445 seconds\n",
            "{1: {'train': 0.355234923248983, 'test': 0.35710799933401083}, 3: {'train': 0.269200044243981, 'test': 0.2705236627109205}, 6: {'train': 0.25252743741320194, 'test': 0.25340888865923744}, 10: {'train': 0.2222842184177861, 'test': 0.22343363360259966}, 15: {'train': 0.17999434660243097, 'test': 0.18335945618537464}}\n"
          ]
        }
      ]
    },
    {
      "cell_type": "code",
      "source": [
        "RF10p_10={1: {'test': 0.41132990702777616, 'train': 0.4119253191646373}, 3: {'test': 0.27504764104637064, 'train': 0.2733131626202248}, 6: {'test': 0.2566264364497315, 'train': 0.2549627333776105}, 10: {'test': 0.23167985216838943, 'train': 0.2252724276191179}, 15: {'test': 0.20182479644280188, 'train': 0.18323370968932182}, 20: {'test': 0.19091066581971472, 'train': 0.15942242884903943}}\n",
        "RF10p_100={1: {'test': 0.3960270254663048, 'train': 0.39411605539566574}, 3: {'test': 0.2815730207310735, 'train': 0.2798071483039382}, 6: {'test': 0.26396027025466307, 'train': 0.26189949081248615}, 10: {'test': 0.23081365132528728, 'train': 0.22281258455710526}, 15: {'test': 0.1997459144193567, 'train': 0.18001131527808525}, 20: {'test': 0.17803314661892938, 'train': 0.14658204806533343}}\n",
        "RFall_10={1: {'test': 0.4347141897208231, 'train': 0.4350283735527522}, 3: {'test': 0.29120314267828323, 'train': 0.29215788917479535}, 6: {'test': 0.2565544254216944, 'train': 0.25831115305498004}, 10: {'test': 0.23009550939300133, 'train': 0.23181032851388447}, 15: {'test': 0.1900252126419288, 'train': 0.18882605500709032}, 20: {'test': 0.160103147847162, 'train': 0.154824487027302}}\n",
        "RFall_100={1: {'test': 0.37008023248468, 'train': 0.37146866620954405}, 10: {'test': 0.21840810020732948, 'train': 0.2205764168958424}, 3: {'test': 0.289640992654449, 'train': 0.29019177031799515}, 6: {'test': 0.2532176270251954, 'train': 0.25488519094700574}, 15: {'test': 0.19286809595736248, 'train': 0.1926280373464277}}\n",
        "def pp(R):\n",
        "    return '\\n'.join(['%s:%s'%(str(key),str(R[key])) for key in list(R.keys())])\n",
        "print(\"RF10p_10=\\n%s\\nRF10p_100=\\n%s\\nRFall_10=\\n%s\\nRFall_100=\\n%s\\n\"%(pp(RF10p_10),pp(RF10p_100),pp(RFall_10),pp(RFall_100)))"
      ],
      "metadata": {
        "colab": {
          "base_uri": "https://localhost:8080/"
        },
        "id": "AW_m9EjQElNk",
        "outputId": "d7cbfc8f-0edb-4922-98e5-822c2d0497fc"
      },
      "execution_count": 103,
      "outputs": [
        {
          "output_type": "stream",
          "name": "stdout",
          "text": [
            "RF10p_10=\n",
            "1:{'test': 0.41132990702777616, 'train': 0.4119253191646373}\n",
            "3:{'test': 0.27504764104637064, 'train': 0.2733131626202248}\n",
            "6:{'test': 0.2566264364497315, 'train': 0.2549627333776105}\n",
            "10:{'test': 0.23167985216838943, 'train': 0.2252724276191179}\n",
            "15:{'test': 0.20182479644280188, 'train': 0.18323370968932182}\n",
            "20:{'test': 0.19091066581971472, 'train': 0.15942242884903943}\n",
            "RF10p_100=\n",
            "1:{'test': 0.3960270254663048, 'train': 0.39411605539566574}\n",
            "3:{'test': 0.2815730207310735, 'train': 0.2798071483039382}\n",
            "6:{'test': 0.26396027025466307, 'train': 0.26189949081248615}\n",
            "10:{'test': 0.23081365132528728, 'train': 0.22281258455710526}\n",
            "15:{'test': 0.1997459144193567, 'train': 0.18001131527808525}\n",
            "20:{'test': 0.17803314661892938, 'train': 0.14658204806533343}\n",
            "RFall_10=\n",
            "1:{'test': 0.4347141897208231, 'train': 0.4350283735527522}\n",
            "3:{'test': 0.29120314267828323, 'train': 0.29215788917479535}\n",
            "6:{'test': 0.2565544254216944, 'train': 0.25831115305498004}\n",
            "10:{'test': 0.23009550939300133, 'train': 0.23181032851388447}\n",
            "15:{'test': 0.1900252126419288, 'train': 0.18882605500709032}\n",
            "20:{'test': 0.160103147847162, 'train': 0.154824487027302}\n",
            "RFall_100=\n",
            "1:{'test': 0.37008023248468, 'train': 0.37146866620954405}\n",
            "10:{'test': 0.21840810020732948, 'train': 0.2205764168958424}\n",
            "3:{'test': 0.289640992654449, 'train': 0.29019177031799515}\n",
            "6:{'test': 0.2532176270251954, 'train': 0.25488519094700574}\n",
            "15:{'test': 0.19286809595736248, 'train': 0.1926280373464277}\n",
            "\n"
          ]
        }
      ]
    },
    {
      "cell_type": "code",
      "source": [
        "Results={ID:globals()[ID] for ID in ['RF10p_10','RF10p_100','RFall_10','RFall_100']}\n",
        "Results"
      ],
      "metadata": {
        "colab": {
          "base_uri": "https://localhost:8080/"
        },
        "id": "aN3mgF6dEnoK",
        "outputId": "48949cac-f6cc-4862-e179-c197a8443746"
      },
      "execution_count": 104,
      "outputs": [
        {
          "output_type": "execute_result",
          "data": {
            "text/plain": [
              "{'RF10p_10': {1: {'test': 0.41132990702777616, 'train': 0.4119253191646373},\n",
              "  3: {'test': 0.27504764104637064, 'train': 0.2733131626202248},\n",
              "  6: {'test': 0.2566264364497315, 'train': 0.2549627333776105},\n",
              "  10: {'test': 0.23167985216838943, 'train': 0.2252724276191179},\n",
              "  15: {'test': 0.20182479644280188, 'train': 0.18323370968932182},\n",
              "  20: {'test': 0.19091066581971472, 'train': 0.15942242884903943}},\n",
              " 'RF10p_100': {1: {'test': 0.3960270254663048, 'train': 0.39411605539566574},\n",
              "  3: {'test': 0.2815730207310735, 'train': 0.2798071483039382},\n",
              "  6: {'test': 0.26396027025466307, 'train': 0.26189949081248615},\n",
              "  10: {'test': 0.23081365132528728, 'train': 0.22281258455710526},\n",
              "  15: {'test': 0.1997459144193567, 'train': 0.18001131527808525},\n",
              "  20: {'test': 0.17803314661892938, 'train': 0.14658204806533343}},\n",
              " 'RFall_10': {1: {'test': 0.4347141897208231, 'train': 0.4350283735527522},\n",
              "  3: {'test': 0.29120314267828323, 'train': 0.29215788917479535},\n",
              "  6: {'test': 0.2565544254216944, 'train': 0.25831115305498004},\n",
              "  10: {'test': 0.23009550939300133, 'train': 0.23181032851388447},\n",
              "  15: {'test': 0.1900252126419288, 'train': 0.18882605500709032},\n",
              "  20: {'test': 0.160103147847162, 'train': 0.154824487027302}},\n",
              " 'RFall_100': {1: {'test': 0.37008023248468, 'train': 0.37146866620954405},\n",
              "  10: {'test': 0.21840810020732948, 'train': 0.2205764168958424},\n",
              "  3: {'test': 0.289640992654449, 'train': 0.29019177031799515},\n",
              "  6: {'test': 0.2532176270251954, 'train': 0.25488519094700574},\n",
              "  15: {'test': 0.19286809595736248, 'train': 0.1926280373464277}}}"
            ]
          },
          "metadata": {},
          "execution_count": 104
        }
      ]
    }
  ]
}